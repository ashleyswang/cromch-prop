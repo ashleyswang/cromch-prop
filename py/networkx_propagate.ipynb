{
 "cells": [
  {
   "cell_type": "code",
   "execution_count": 30,
   "metadata": {},
   "outputs": [],
   "source": [
    "import networkx as nx"
   ]
  },
  {
   "cell_type": "code",
   "execution_count": 31,
   "metadata": {},
   "outputs": [],
   "source": [
    "def read_graph(benchmark):\n",
    "  G = nx.DiGraph()\n",
    "\n",
    "  node_data = open(f\"../benchmarks/{benchmark}/nodes.txt\", 'r').readlines()\n",
    "  node_arr = []\n",
    "  nd_nodes = []\n",
    "  for line in node_data: \n",
    "    idx, commit_id, node_str, nondeterministic = line.split(',')\n",
    "    node_arr.append((int(idx), {\n",
    "        \"commit_id\" : int(commit_id), \n",
    "        \"node_str\" : node_str, \n",
    "        \"nondeterministic\" : bool(int(nondeterministic))\n",
    "      }))\n",
    "    if (int(nondeterministic)): nd_nodes.append(int(idx))\n",
    "  G.add_nodes_from(node_arr)\n",
    "\n",
    "  edge_data = open(f\"../benchmarks/{benchmark}/edges.txt\", 'r').readlines()\n",
    "  for line in edge_data:\n",
    "    src, dst = [int(i) for i in line.split(',')]\n",
    "    G.add_edge(src, dst)\n",
    "\n",
    "  return G, nd_nodes"
   ]
  },
  {
   "cell_type": "code",
   "execution_count": 63,
   "metadata": {},
   "outputs": [],
   "source": [
    "def bfs_nodes(G, source): \n",
    "  bfs_out = list(nx.dfs_edges(G, source))\n",
    "  return set([x[1] for x in bfs_out])\n",
    "\n",
    "def multi_bfs(G, sources): \n",
    "  # G_cp = nx.DiGraph(G)\n",
    "  bfs_out = set()\n",
    "  for source in sources: \n",
    "    if source in bfs_out: continue\n",
    "    src_out = bfs_nodes(G, source)\n",
    "    bfs_out = bfs_out.union(src_out)\n",
    "    # G_cp.remove_nodes_from(src_out)\n",
    "  \n",
    "  return bfs_out"
   ]
  },
  {
   "cell_type": "code",
   "execution_count": 75,
   "metadata": {},
   "outputs": [],
   "source": [
    "from collections import deque\n",
    "\n",
    "def generic_bfs_edges(G, sources, neighbors=None, depth_limit=None, sort_neighbors=None):\n",
    "    if callable(sort_neighbors):\n",
    "        _neighbors = neighbors\n",
    "        neighbors = lambda node: iter(sort_neighbors(_neighbors(node)))\n",
    "\n",
    "    visited = set(sources)\n",
    "    if depth_limit is None:\n",
    "        depth_limit = len(G)\n",
    "    queue = deque([(source, depth_limit, neighbors(source)) for source in sources])\n",
    "    while queue:\n",
    "        parent, depth_now, children = queue[0]\n",
    "        try:\n",
    "            child = next(children)\n",
    "            if child not in visited:\n",
    "                yield parent, child\n",
    "                visited.add(child)\n",
    "                if depth_now > 1:\n",
    "                    queue.append((child, depth_now - 1, neighbors(child)))\n",
    "        except StopIteration:\n",
    "            queue.popleft()\n",
    "\n",
    "def bfs_edges(G, sources, reverse=False, depth_limit=None, sort_neighbors=None):\n",
    "    if reverse and G.is_directed():\n",
    "        successors = G.predecessors\n",
    "    else:\n",
    "        successors = G.neighbors\n",
    "    yield from generic_bfs_edges(G, sources, successors, depth_limit, sort_neighbors)\n",
    "\n",
    "def bfs_multi_src(G, sources):\n",
    "    return [x[1] for x in list(bfs_edges(G, sources))]"
   ]
  },
  {
   "cell_type": "code",
   "execution_count": 79,
   "metadata": {},
   "outputs": [],
   "source": [
    "G, nd_nodes = read_graph(\"vsra\")\n",
    "# print(multi_bfs(G, nd_nodes))"
   ]
  },
  {
   "cell_type": "code",
   "execution_count": 84,
   "metadata": {},
   "outputs": [],
   "source": [
    "x = multi_bfs(G, nd_nodes)"
   ]
  },
  {
   "cell_type": "code",
   "execution_count": 85,
   "metadata": {},
   "outputs": [],
   "source": [
    "y = bfs_multi_src(G, nd_nodes)"
   ]
  },
  {
   "cell_type": "code",
   "execution_count": 89,
   "metadata": {},
   "outputs": [
    {
     "name": "stdout",
     "output_type": "stream",
     "text": [
      "\n"
     ]
    }
   ],
   "source": [
    "for item in x: \n",
    "  if item not in y: print(item)\n",
    "print()\n",
    "for item in y:\n",
    "  if item not in x: print(item)"
   ]
  }
 ],
 "metadata": {
  "kernelspec": {
   "display_name": "Python 3.10.8 64-bit",
   "language": "python",
   "name": "python3"
  },
  "language_info": {
   "codemirror_mode": {
    "name": "ipython",
    "version": 3
   },
   "file_extension": ".py",
   "mimetype": "text/x-python",
   "name": "python",
   "nbconvert_exporter": "python",
   "pygments_lexer": "ipython3",
   "version": "3.10.8"
  },
  "orig_nbformat": 4,
  "vscode": {
   "interpreter": {
    "hash": "aee8b7b246df8f9039afb4144a1f6fd8d2ca17a180786b69acc140d282b71a49"
   }
  }
 },
 "nbformat": 4,
 "nbformat_minor": 2
}
